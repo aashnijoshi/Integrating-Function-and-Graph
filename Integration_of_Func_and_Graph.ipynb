{
  "nbformat": 4,
  "nbformat_minor": 0,
  "metadata": {
    "colab": {
      "name": "Integration of Func and Graph.ipynb",
      "provenance": [],
      "authorship_tag": "ABX9TyMOcYfGYWUINAcSpTGrqbn9",
      "include_colab_link": true
    },
    "kernelspec": {
      "name": "python3",
      "display_name": "Python 3"
    },
    "language_info": {
      "name": "python"
    }
  },
  "cells": [
    {
      "cell_type": "markdown",
      "metadata": {
        "id": "view-in-github",
        "colab_type": "text"
      },
      "source": [
        "<a href=\"https://colab.research.google.com/github/aashnijoshi/Integrating-Function-and-Graph/blob/main/Integration_of_Func_and_Graph.ipynb\" target=\"_parent\"><img src=\"https://colab.research.google.com/assets/colab-badge.svg\" alt=\"Open In Colab\"/></a>"
      ]
    },
    {
      "cell_type": "code",
      "execution_count": null,
      "metadata": {
        "id": "c6eNLfnxw2td"
      },
      "outputs": [],
      "source": [
        "\n",
        "#To integrate a function inputted by the user by calculating area under the curve\n",
        "#To print a graph of integration of f(x) vs x\n",
        "\n",
        "#Importing pyplot to plot the graph \n",
        "from matplotlib import pyplot as plt\n",
        "\n",
        "#Inputting upper and lower limits for the integration function from the user\n",
        "print(\"Kindly enter lower limit \")\n",
        "a=int(input())\n",
        "print(\"Kindly enter upper limit \")\n",
        "b=int(input())\n",
        "\n",
        "print(\"Kindly enter function\")\n",
        "func=input()\n",
        "\n",
        "def f(x):\n",
        "    return eval(func)\n",
        "    \n",
        "area=0\n",
        "x=a\n",
        "xdata=[]    #Creating an array of elements for x axis\n",
        "ydata=[]    #Creating an array of elements for y axis\n",
        "\n",
        "while x<b:\n",
        "    h=0.01\n",
        "\n",
        "    #Using area under the curve method to integrate\n",
        "    #We take the shape under the curve as a trapezium and use the trapezium formula\n",
        "    area+=0.5*(f(x)+f(x+h))*h     \n",
        "    x+=h\n",
        "    \n",
        "    \n",
        "#Defining the integration function    \n",
        "def integrate(x,h,a,b):\n",
        "\n",
        "    x=a\n",
        "    global xdata\n",
        "    global ydata\n",
        "    global area\n",
        "\n",
        "    while x<b:\n",
        "\n",
        "        xdata.append(x)               #Appending elements to the array for x axis\n",
        "        area+=0.5*(f(x)+f(x+h))*h\n",
        "        x+=h\n",
        "        ydata.append(area)            #Appending elements to the array for y axis which are the area under the curve\n",
        "        \n",
        "    \n",
        "\n",
        "#Calling the function\n",
        "integrate(x, 0.01, a, b) \n",
        "\n",
        "print(\"Area under the curve = \",area) \n",
        "\n",
        "#Plotting the data\n",
        "plt.plot(xdata,ydata)\n",
        "plt.show()  \n"
      ]
    }
  ]
}